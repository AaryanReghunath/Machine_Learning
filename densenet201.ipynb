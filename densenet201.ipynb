{
  "cells": [
    {
      "cell_type": "code",
      "execution_count": null,
      "metadata": {
        "id": "C6ChG3WV6xrd"
      },
      "outputs": [],
      "source": [
        "import pandas as pd\n",
        "import torch\n",
        "import torch.nn as nn\n",
        "import torchvision.models as models\n",
        "from torchvision import transforms, datasets\n",
        "from torch.utils.data import DataLoader"
      ]
    },
    {
      "cell_type": "code",
      "execution_count": null,
      "metadata": {
        "id": "TkugHtL_76Or",
        "colab": {
          "base_uri": "https://localhost:8080/"
        },
        "outputId": "1bb7dcfc-b630-48e6-a0b0-922108a7f484"
      },
      "outputs": [
        {
          "output_type": "stream",
          "name": "stderr",
          "text": [
            "/usr/local/lib/python3.11/dist-packages/torchvision/models/_utils.py:208: UserWarning: The parameter 'pretrained' is deprecated since 0.13 and may be removed in the future, please use 'weights' instead.\n",
            "  warnings.warn(\n",
            "/usr/local/lib/python3.11/dist-packages/torchvision/models/_utils.py:223: UserWarning: Arguments other than a weight enum or `None` for 'weights' are deprecated since 0.13 and may be removed in the future. The current behavior is equivalent to passing `weights=DenseNet201_Weights.IMAGENET1K_V1`. You can also use `weights=DenseNet201_Weights.DEFAULT` to get the most up-to-date weights.\n",
            "  warnings.warn(msg)\n",
            "Downloading: \"https://download.pytorch.org/models/densenet201-c1103571.pth\" to /root/.cache/torch/hub/checkpoints/densenet201-c1103571.pth\n",
            "100%|██████████| 77.4M/77.4M [00:00<00:00, 199MB/s]\n"
          ]
        }
      ],
      "source": [
        "model = models.densenet201(pretrained=True)\n",
        "num_classes = 6\n",
        "model.classifier = nn.Linear(model.classifier.in_features, num_classes)\n",
        "device = torch.device(\"cuda\" if torch.cuda.is_available() else \"cpu\")\n",
        "model = model.to(device)"
      ]
    },
    {
      "cell_type": "code",
      "execution_count": null,
      "metadata": {
        "id": "qJ67bbmr8fKI"
      },
      "outputs": [],
      "source": [
        "transform = transforms.Compose([\n",
        "    transforms.Resize((224,224)),\n",
        "    transforms.ToTensor(),\n",
        "    transforms.Normalize([0.4602, 0.4453, 0.4321],[0.2245, 0.2198, 0.2210])\n",
        "])\n",
        "train_path = datasets.ImageFolder('/content/drive/MyDrive/train', transform=transform)\n",
        "test_path = datasets.ImageFolder('/content/drive/MyDrive/test', transform=transform)\n",
        "\n",
        "train_loader = DataLoader(train_path, batch_size=32, shuffle=True)\n",
        "test_loader = DataLoader(test_path, batch_size=32, shuffle=True)"
      ]
    },
    {
      "cell_type": "code",
      "execution_count": null,
      "metadata": {
        "id": "7IlUWPdhMknc",
        "colab": {
          "base_uri": "https://localhost:8080/"
        },
        "outputId": "7953c8d6-adad-4588-febb-ee8064c98416"
      },
      "outputs": [
        {
          "output_type": "stream",
          "name": "stdout",
          "text": [
            "Epoch 1 - Loss: 0.6465217388020112\n",
            "Epoch 2 - Loss: 0.16007544931310874\n",
            "Epoch 3 - Loss: 0.10443089974041168\n",
            "Epoch 4 - Loss: 0.07099323680337805\n"
          ]
        }
      ],
      "source": [
        "critirion = nn.CrossEntropyLoss()\n",
        "optimizer = torch.optim.Adam(model.classifier.parameters(), lr=0.001)\n",
        "\n",
        "for epoch in range(5):\n",
        "  model.train()\n",
        "  running_loss = 0.0\n",
        "\n",
        "  for inputs, labels in train_loader:\n",
        "    inputs, labels = inputs.to(device), labels.to(device)\n",
        "    optimizer.zero_grad()\n",
        "    outputs = model(inputs)\n",
        "    loss = critirion(outputs, labels)\n",
        "    loss.backward()\n",
        "    optimizer.step()\n",
        "    running_loss += loss.item()\n",
        "\n",
        "  print(f\"Epoch {epoch+1} - Loss: {running_loss/len(train_loader)}\")\n",
        "  torch.save(model.state_dict(), 'model.pth')\n"
      ]
    },
    {
      "cell_type": "code",
      "execution_count": null,
      "metadata": {
        "id": "Kw4SwcYAWl1d"
      },
      "outputs": [],
      "source": [
        "# Testing and loading\n",
        "from PIL import Image\n",
        "import matplotlib.pyplot as plt\n",
        "import torch.nn.functional as F"
      ]
    },
    {
      "cell_type": "code",
      "execution_count": null,
      "metadata": {
        "id": "ZpKoJKuvW8w3"
      },
      "outputs": [],
      "source": [
        "img_path = '/content/drive/MyDrive/test/Pitted/PS_10.bmp'\n",
        "image = Image.open(img_path).convert('RGB')\n",
        "transform = transforms.Compose([transforms.Resize((224,224)), transforms.ToTensor(),transforms.Normalize(mean=[0.485, 0.456, 0.406], std=[0.229, 0.224, 0.225])])\n",
        "\n",
        "image_tensor = transform(image).unsqueeze(0).to(device)\n",
        "\n",
        "model.eval()\n",
        "with torch.no_grad():\n",
        "    outputs = model(image_tensor)\n",
        "    probabilities = F.softmax(outputs, dim=1)\n",
        "    confidence, predicted_class_idx = torch.max(probabilities, 1)\n",
        "\n",
        "    class_name = train_path.classes\n",
        "    predicted_label = class_name[predicted_class_idx.item()]\n",
        "    confidence_score = confidence.item()\n",
        "    print(f\"Predicted Lable: {predicted_label}({confidence_score:.2f}% Confidence)\")\n",
        "    plt.imshow(image)\n",
        "    plt.title(f\"predicted: {predicted_label}\")\n",
        "    plt.axis('off')\n",
        "    plt.show()\n",
        "\n",
        "\n"
      ]
    },
    {
      "cell_type": "markdown",
      "metadata": {
        "id": "8cMhGPmTWmbA"
      },
      "source": []
    }
  ],
  "metadata": {
    "colab": {
      "provenance": [],
      "gpuType": "V28"
    },
    "kernelspec": {
      "display_name": "Python 3",
      "name": "python3"
    },
    "language_info": {
      "name": "python"
    },
    "accelerator": "TPU"
  },
  "nbformat": 4,
  "nbformat_minor": 0
}